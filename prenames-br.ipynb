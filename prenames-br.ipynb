{
 "cells": [
  {
   "cell_type": "code",
   "execution_count": null,
   "metadata": {},
   "outputs": [],
   "source": [
    "import pandas as pd\n",
    "from time import time\n",
    "import enchant\n",
    "from metaphone import doublemetaphone\n",
    "\n",
    "from sklearn.feature_extraction.text import TfidfVectorizer, CountVectorizer\n",
    "from sklearn.naive_bayes import CategoricalNB,BaseNB,BernoulliNB, MultinomialNB, GaussianNB\n",
    "from sklearn.svm import LinearSVC,SVC\n",
    "from sklearn.metrics import classification_report\n",
    "from sklearn.model_selection import train_test_split\n",
    "from sklearn.model_selection import GridSearchCV\n",
    "from sklearn.pipeline import Pipeline\n",
    "\n",
    "MAX_CHAR = 4\n",
    "\n",
    "params = {\n",
    "    'model__penalty': ['l1','l2'],\n",
    "    'model__loss': ['squared_hinge','hinge'],\n",
    "    'model__dual': [True, False],\n",
    "    'model__tol': [0.00001,0.0001, 0.001],\n",
    "    'model__C': [0.001,0.1,0.5,1.0,3,5,10],\n",
    "    'vectorizer__ngram_range' : [(1,1), (1,2), (1,3), (1,4), (1,5), (1,6),]     \n",
    "}\n",
    "\n",
    "def text_bounds(text,ngram_range):\n",
    "    MAX_CHAR = max(ngram_range)\n",
    "    return (MAX_CHAR-1)*'_' + text + '_'*(MAX_CHAR-1)\n",
    "\n",
    "def add_dmetaphone_char(text,ngram_range):\n",
    "    MAX_CHAR = max(ngram_range)\n",
    "    text + ' ' + (MAX_CHAR-1)*'_' + doublemetaphone(text)[0] + '_'*(MAX_CHAR-1)\n",
    "    \n",
    "model_df = pd.read_csv('nomes-censos-ibge-v2.csv', delimiter=';').dropna(subset=['Nome'])\n",
    "model_df = model_df[(model_df['SEX'] == 'F') | (model_df['SEX'] == 'M')]\n",
    "\n",
    "model_df['Nome'] = (MAX_CHAR-1)*'_' + model_df['Nome'] + '_'*(MAX_CHAR-1) #grande acrescimo a performance\n",
    "model_df['Nome'] = model_df['Nome'] + ' ' + (MAX_CHAR-1)*'_' + model_df['Nome'].apply(lambda x: doublemetaphone(x)[0]) + '_'*(MAX_CHAR-1)\n",
    "\n",
    "\n",
    "X = model_df['Nome']\n",
    "y = model_df['SEX']\n",
    "X_train, X_test, y_train, y_test = train_test_split(X, y, test_size=0.15, random_state=42)\n",
    "\n",
    "pipe = Pipeline([('vectorizer', CountVectorizer(analyzer='char')),\n",
    "                 ('model', LinearSVC())])\n",
    "\n",
    "grid_search = GridSearchCV(pipe, params, verbose = 1)\n",
    "t0 = time()\n",
    "grid_search.fit(X_train, y_train)\n",
    "print(\"done in %0.3fs\" % (time() - t0))\n",
    "\n",
    "print(classification_report(y_true=y_test, y_pred=y_pred))"
   ]
  },
  {
   "cell_type": "code",
   "execution_count": null,
   "metadata": {},
   "outputs": [],
   "source": [
    "pd.DataFrame(grid_search.cv_results_).sort_values(by='rank_test_score').dropna()"
   ]
  },
  {
   "cell_type": "code",
   "execution_count": null,
   "metadata": {},
   "outputs": [],
   "source": [
    "grid_search.best_estimator_"
   ]
  },
  {
   "cell_type": "code",
   "execution_count": null,
   "metadata": {},
   "outputs": [],
   "source": [
    "MAX_CHAR = 4\n",
    "\n",
    "model_df = pd.read_csv('nomes-censos-ibge-v2.csv', delimiter=';').dropna(subset=['Nome'])\n",
    "model_df = model_df[(model_df['SEX'] == 'F') | (model_df['SEX'] == 'M')]\n",
    "\n",
    "model_df['Nome'] = (MAX_CHAR-1)*'_' + model_df['Nome'] + '_'*(MAX_CHAR-1) #grande acrescimo a performance\n",
    "model_df['Nome'] = model_df['Nome'] + ' ' + (MAX_CHAR-1)*'_' + model_df['Nome'].apply(lambda x: doublemetaphone(x)[0]) + '_'*(MAX_CHAR-1)\n",
    "\n",
    "X = model_df['Nome']\n",
    "y = model_df['SEX']\n",
    "X_train, X_test, y_train, y_test = train_test_split(X, y, test_size=0.20, random_state=42)\n",
    "\n",
    "vect = CountVectorizer(analyzer='char', ngram_range=(1,MAX_CHAR))\n",
    "vect = grid_search.best_estimator_['vectorizer']\n",
    "X_train_vect = vect.fit_transform(X_train)\n",
    "X_test_vect = vect.transform(X_test)\n",
    "\n",
    "model = LinearSVC(dual=True)\n",
    "model = grid_search.best_estimator_['model']\n",
    "\n",
    "model.fit(X_train_vect.toarray(), y_train)\n",
    "y_pred = model.predict(X_test_vect.toarray())\n",
    "\n",
    "print(classification_report(y_true=y_test, y_pred=y_pred))"
   ]
  },
  {
   "cell_type": "code",
   "execution_count": null,
   "metadata": {},
   "outputs": [],
   "source": [
    "test_text = 'THOMAS'\n",
    "\n",
    "try:\n",
    "    print(model.predict_proba(vect.transform([test_text])))\n",
    "except:\n",
    "    print(model.decision_function(vect.transform([test_text])))\n",
    "    \n",
    "print(model.predict(vect.transform([test_text])))"
   ]
  }
 ],
 "metadata": {
  "kernelspec": {
   "display_name": "Python 3",
   "language": "python",
   "name": "python3"
  },
  "language_info": {
   "codemirror_mode": {
    "name": "ipython",
    "version": 3
   },
   "file_extension": ".py",
   "mimetype": "text/x-python",
   "name": "python",
   "nbconvert_exporter": "python",
   "pygments_lexer": "ipython3",
   "version": "3.8.5"
  }
 },
 "nbformat": 4,
 "nbformat_minor": 4
}
