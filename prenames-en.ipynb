{
 "cells": [
  {
   "cell_type": "markdown",
   "metadata": {},
   "source": [
    "#Dados de nomes em Security Cards\n",
    "https://catalog.data.gov/dataset/baby-names-from-social-security-card-applications-national-data"
   ]
  },
  {
   "cell_type": "code",
   "execution_count": 2,
   "metadata": {},
   "outputs": [],
   "source": [
    "# from google.cloud import bigquery\n",
    "# client = bigquery.Client()\n",
    "\n",
    "# sql = \"\"\"\n",
    "# SELECT\n",
    "#   name,\n",
    "#   gender,\n",
    "#   COUNT(name) AS num_names\n",
    "# FROM\n",
    "#   `bigquery-public-data.usa_names.usa_1910_current`\n",
    "# GROUP BY\n",
    "#   name,\n",
    "#   gender\n",
    "# \"\"\"\n",
    "\n",
    "# names_df = client.query(sql).to_dataframe()\n",
    "\n",
    "# print(names_df.shape)\n",
    "# names_df.head()"
   ]
  },
  {
   "cell_type": "markdown",
   "metadata": {},
   "source": [
    "### Data Loading"
   ]
  },
  {
   "cell_type": "code",
   "execution_count": 114,
   "metadata": {},
   "outputs": [],
   "source": [
    "import pandas as pd\n",
    "import numpy as np\n",
    "\n",
    "import unicodedata\n",
    "import string\n",
    "import random\n",
    "\n",
    "from metaphone import doublemetaphone\n",
    "\n",
    "from sklearn.model_selection import train_test_split\n",
    "\n",
    "# Turn a Unicode string to plain ASCII, thanks to https://stackoverflow.com/a/518232/2809427\n",
    "def unicodeToAscii(s):\n",
    "    all_letters = string.ascii_letters + \" .,;'\"\n",
    "    return ''.join(\n",
    "        c for c in unicodedata.normalize('NFD', s)\n",
    "        if unicodedata.category(c) != 'Mn'\n",
    "        and c in all_letters\n",
    "    )\n",
    "\n",
    "MAX_CHAR = 4\n",
    "NEUTRAL_NAMES = False\n",
    "NAME_COUNT_THRESHOLD = 5\n",
    "\n",
    "model_df = pd.read_csv(\"data/bigquery-results/bq-results-20220101-122926-phn99u10bjpw.csv\")\n",
    "model_df['ascii_name'] = [unicodeToAscii(name) for name in model_df['name']]\n",
    "model_df['lowascii_name'] = model_df['ascii_name'].str.lower()\n",
    "\n",
    "model_df['bound_lowascii_name'] = (MAX_CHAR-1)*'_' + model_df['lowascii_name'] + '_'*(MAX_CHAR-1) #grande acrescimo a performance\n",
    "model_df['meta_bound_lowascii_name'] = model_df['bound_lowascii_name'] + ' ' + (MAX_CHAR-1)*'_' + model_df['bound_lowascii_name'].apply(lambda x: doublemetaphone(x)[0]) + '_'*(MAX_CHAR-1)\n",
    "\n",
    "#incorporating total_name_count to see possible neutral names and filtering\n",
    "model_df = model_df.merge(\n",
    "    model_df[['name','count_name']].rename(columns={'count_name':'name_total_count'}).groupby('name', as_index=False).sum(),\n",
    "    how='inner',on='name')\n",
    "model_df['perc_name_tc'] = 1 - (model_df['name_total_count'] - model_df['count_name'])/model_df['name_total_count']\n",
    "\n",
    "#filter for names\n",
    "model_df = model_df[model_df['name_total_count'] >= NAME_COUNT_THRESHOLD]\n",
    "\n",
    "if NEUTRAL_NAMES:\n",
    "    #creating neutral scores for names\n",
    "    model_df['neutral_score'] = - (model_df['perc_name_tc'] - 0.5)**2\n",
    "    model_df = model_df.sort_values(by='neutral_score', ascending=True)\n",
    "else:\n",
    "    model_df = model_df.sort_values(by='count_name',ascending=False).drop_duplicates(subset='name', keep='first')\n",
    "\n",
    "\n",
    "model_df = model_df.sample(len(model_df))\n",
    "\n",
    "# Step 2: Split Training and Test Data\n",
    "X = model_df.drop(['gender'],axis=1)\n",
    "y = np.asarray(model_df['gender'].values.tolist())\n",
    "\n",
    "X_train_df, X_test_df, y_train, y_test = train_test_split(X,\n",
    "                                                    y,\n",
    "                                                    test_size=0.2,\n",
    "                                                    random_state=0)"
   ]
  },
  {
   "cell_type": "markdown",
   "metadata": {},
   "source": [
    "## Approach 1 - Classical NLP"
   ]
  },
  {
   "cell_type": "code",
   "execution_count": 148,
   "metadata": {},
   "outputs": [
    {
     "name": "stdout",
     "output_type": "stream",
     "text": [
      "              precision    recall  f1-score   support\n",
      "\n",
      "           F       0.90      0.90      0.90      2356\n",
      "           M       0.84      0.85      0.84      1522\n",
      "\n",
      "    accuracy                           0.88      3878\n",
      "   macro avg       0.87      0.87      0.87      3878\n",
      "weighted avg       0.88      0.88      0.88      3878\n",
      "\n"
     ]
    }
   ],
   "source": [
    "#### import pandas as pd\n",
    "import enchant\n",
    "from metaphone import doublemetaphone\n",
    "\n",
    "from sklearn.model_selection import train_test_split\n",
    "from sklearn.feature_extraction.text import TfidfVectorizer, CountVectorizer\n",
    "from sklearn.naive_bayes import CategoricalNB,BaseNB,BernoulliNB, MultinomialNB, GaussianNB\n",
    "from sklearn.svm import LinearSVC,SVC\n",
    "from sklearn.metrics import classification_report\n",
    "\n",
    "MAX_CHAR = 4\n",
    "\n",
    "X_train = X_train_df['lowascii_name']\n",
    "X_test = X_test_df['lowascii_name']\n",
    "\n",
    "vect = CountVectorizer(analyzer='char', ngram_range=(1,MAX_CHAR))\n",
    "#vect = grid_search.best_estimator_['vectorizer']\n",
    "X_train_vect = vect.fit_transform(X_train)\n",
    "X_test_vect = vect.transform(X_test)\n",
    "\n",
    "model = LinearSVC(dual=True)\n",
    "#model = grid_search.best_estimator_['model']\n",
    "\n",
    "model.fit(X_train_vect, y_train)\n",
    "y_pred = model.predict(X_test_vect)\n",
    "\n",
    "print(classification_report(y_true=y_test, y_pred=y_pred))"
   ]
  },
  {
   "cell_type": "markdown",
   "metadata": {},
   "source": [
    "## Approach 2 - Deep Learning"
   ]
  },
  {
   "cell_type": "code",
   "execution_count": 149,
   "metadata": {},
   "outputs": [
    {
     "name": "stdout",
     "output_type": "stream",
     "text": [
      "Unicode to ASCII: Slusarski\n",
      "tensor([[0., 0., 0., 0., 0., 0., 0., 0., 0., 0., 0., 0., 0., 0., 0., 0., 0., 0.,\n",
      "         0., 0., 0., 0., 0., 0., 0., 0., 0., 0., 0., 0., 0., 0., 0., 0., 0., 1.,\n",
      "         0., 0., 0., 0., 0., 0., 0., 0., 0., 0., 0., 0., 0., 0., 0., 0., 0., 0.,\n",
      "         0., 0., 0.]])\n",
      "tensor(35)\n",
      "torch.Size([5, 1, 57])\n"
     ]
    }
   ],
   "source": [
    "import torch\n",
    "import torch.nn as nn\n",
    "\n",
    "def letterToIndex(letter):\n",
    "    return all_letters.find(letter)\n",
    "\n",
    "def letterToTensor(letter):\n",
    "    tensor = torch.zeros(1, n_letters)\n",
    "    tensor[0][letterToIndex(letter)] = 1\n",
    "    return tensor\n",
    "\n",
    "def lineToTensor(line):\n",
    "    tensor = torch.zeros(len(line), 1, n_letters)\n",
    "    for li, letter in enumerate(line):\n",
    "        tensor[li][0][letterToIndex(letter)] = 1\n",
    "    return tensor\n",
    "\n",
    "def df2dict(df,key_col,val_col):\n",
    "    \n",
    "    final_dict = {}\n",
    "    for key in df[key_col].unique():\n",
    "        final_dict.update({key : df[df[key_col] == key][val_col].tolist()})\n",
    "        \n",
    "    return final_dict\n",
    "\n",
    "def randomChoice(l):\n",
    "    return l[random.randint(0, len(l) - 1)]\n",
    "\n",
    "def randomTrainingExample():\n",
    "    category = randomChoice(all_categories)\n",
    "    line = randomChoice(category_lines[category])\n",
    "    category_tensor = torch.tensor([all_categories.index(category)], dtype=torch.long)\n",
    "    line_tensor = lineToTensor(line)\n",
    "    return category, line, category_tensor, line_tensor\n",
    "\n",
    "def categoryFromOutput(output):\n",
    "    top_n, top_i = output.topk(1)\n",
    "    category_i = top_i[0].item()\n",
    "    return all_categories[category_i], category_i\n",
    "\n",
    "print('Unicode to ASCII:',unicodeToAscii('Ślusàrski'))\n",
    "all_letters = string.ascii_letters + \" .,;'\"\n",
    "n_letters = len(all_letters)\n",
    "all_categories = ['F', 'M']\n",
    "n_categories = len(all_categories)\n",
    "\n",
    "print(letterToTensor('J'))\n",
    "print(letterToTensor('J').argmax())\n",
    "print(lineToTensor('Jones').size())"
   ]
  },
  {
   "cell_type": "code",
   "execution_count": 150,
   "metadata": {},
   "outputs": [],
   "source": [
    "class RNN(nn.Module):\n",
    "    def __init__(self, input_size, hidden_size, output_size):\n",
    "        super(RNN, self).__init__()\n",
    "\n",
    "        self.hidden_size = hidden_size\n",
    "\n",
    "        self.i2h = nn.Linear(input_size + hidden_size, hidden_size)\n",
    "        self.i2o = nn.Linear(input_size + hidden_size, output_size)\n",
    "        self.softmax = nn.LogSoftmax(dim=1)\n",
    "\n",
    "    def forward(self, input, hidden):\n",
    "        combined = torch.cat((input, hidden), 1)\n",
    "        hidden = self.i2h(combined)\n",
    "        output = self.i2o(combined)\n",
    "        output = self.softmax(output)\n",
    "        return output, hidden\n",
    "    \n",
    "    def initHidden(self):\n",
    "        return torch.zeros(1, self.hidden_size)\n",
    "    \n",
    "n_hidden = 128\n",
    "rnn = RNN(n_letters, n_hidden, n_categories)"
   ]
  },
  {
   "cell_type": "code",
   "execution_count": 151,
   "metadata": {},
   "outputs": [
    {
     "name": "stdout",
     "output_type": "stream",
     "text": [
      "CharTensor:\n",
      " tensor([[0., 0., 0., 0., 0., 0., 0., 0., 0., 0., 0., 0., 0., 0., 0., 0., 0., 0.,\n",
      "         0., 1., 0., 0., 0., 0., 0., 0., 0., 0., 0., 0., 0., 0., 0., 0., 0., 0.,\n",
      "         0., 0., 0., 0., 0., 0., 0., 0., 0., 0., 0., 0., 0., 0., 0., 0., 0., 0.,\n",
      "         0., 0., 0.]])\n",
      "HiddenValue:\n",
      " tensor([[0., 0., 0., 0., 0., 0., 0., 0., 0., 0., 0., 0., 0., 0., 0., 0., 0., 0., 0., 0., 0., 0., 0., 0.,\n",
      "         0., 0., 0., 0., 0., 0., 0., 0., 0., 0., 0., 0., 0., 0., 0., 0., 0., 0., 0., 0., 0., 0., 0., 0.,\n",
      "         0., 0., 0., 0., 0., 0., 0., 0., 0., 0., 0., 0., 0., 0., 0., 0., 0., 0., 0., 0., 0., 0., 0., 0.,\n",
      "         0., 0., 0., 0., 0., 0., 0., 0., 0., 0., 0., 0., 0., 0., 0., 0., 0., 0., 0., 0., 0., 0., 0., 0.,\n",
      "         0., 0., 0., 0., 0., 0., 0., 0., 0., 0., 0., 0., 0., 0., 0., 0., 0., 0., 0., 0., 0., 0., 0., 0.,\n",
      "         0., 0., 0., 0., 0., 0., 0., 0.]])\n",
      "\n",
      "\n",
      "\n",
      "CharTensor:\n",
      " tensor([[0., 0., 0., 0., 0., 0., 0., 0., 0., 0., 0., 0., 0., 0., 1., 0., 0., 0.,\n",
      "         0., 0., 0., 0., 0., 0., 0., 0., 0., 0., 0., 0., 0., 0., 0., 0., 0., 0.,\n",
      "         0., 0., 0., 0., 0., 0., 0., 0., 0., 0., 0., 0., 0., 0., 0., 0., 0., 0.,\n",
      "         0., 0., 0.]])\n",
      "HiddenValue:\n",
      " tensor([[-0.0804, -0.0111,  0.0399, -0.0793,  0.0201, -0.1030,  0.0663,  0.0238,\n",
      "         -0.0021,  0.0532,  0.0757, -0.0762,  0.0213, -0.0096,  0.0129,  0.0430,\n",
      "          0.0206, -0.0164,  0.0421, -0.0217,  0.0956,  0.0040,  0.0157,  0.0973,\n",
      "         -0.0065, -0.0324,  0.0967,  0.0051, -0.0110, -0.0316,  0.0294,  0.0185,\n",
      "         -0.0908, -0.0677,  0.0068, -0.0186, -0.0246, -0.0976, -0.0511, -0.0021,\n",
      "         -0.0111, -0.0099, -0.1168,  0.0581,  0.0289,  0.0489,  0.0928,  0.0603,\n",
      "         -0.0074,  0.0996,  0.0196, -0.0427,  0.0049, -0.0956, -0.0512, -0.1195,\n",
      "          0.0167, -0.0096, -0.0383, -0.0062, -0.0787,  0.0472,  0.0500,  0.0313,\n",
      "         -0.0300,  0.0220, -0.0254,  0.0016, -0.0046, -0.0962,  0.0322,  0.0011,\n",
      "         -0.0708, -0.0086, -0.0215, -0.0325, -0.0843,  0.0113, -0.0221, -0.0831,\n",
      "          0.0193,  0.0264, -0.1307, -0.0501,  0.0965, -0.0033,  0.0472,  0.0480,\n",
      "          0.0905, -0.0880,  0.1291,  0.0808, -0.0253,  0.0481,  0.1113, -0.0204,\n",
      "          0.0399, -0.0294,  0.0079,  0.0700, -0.1204, -0.0436, -0.0553, -0.0805,\n",
      "         -0.0754,  0.0235, -0.0147, -0.0356,  0.0869,  0.0326, -0.0134, -0.0050,\n",
      "          0.0100, -0.0924,  0.0121, -0.0551,  0.0165,  0.0413, -0.0417, -0.1261,\n",
      "          0.0096,  0.0551,  0.0510, -0.0598,  0.0452,  0.0862, -0.0176, -0.0190]],\n",
      "       grad_fn=<AddmmBackward>)\n",
      "\n",
      "\n",
      "\n",
      "CharTensor:\n",
      " tensor([[0., 0., 0., 0., 0., 0., 0., 0., 0., 0., 0., 0., 1., 0., 0., 0., 0., 0.,\n",
      "         0., 0., 0., 0., 0., 0., 0., 0., 0., 0., 0., 0., 0., 0., 0., 0., 0., 0.,\n",
      "         0., 0., 0., 0., 0., 0., 0., 0., 0., 0., 0., 0., 0., 0., 0., 0., 0., 0.,\n",
      "         0., 0., 0.]])\n",
      "HiddenValue:\n",
      " tensor([[-0.0936,  0.0201,  0.0146, -0.0222,  0.0947, -0.0837,  0.0630,  0.0413,\n",
      "          0.0403,  0.0270,  0.0970, -0.0061, -0.0185,  0.0632, -0.0182, -0.0018,\n",
      "         -0.0094, -0.1030, -0.0052,  0.0089,  0.1016,  0.0030,  0.0684,  0.0224,\n",
      "          0.0691, -0.0116,  0.1312, -0.0320, -0.1413, -0.1303, -0.0061,  0.0153,\n",
      "         -0.0124, -0.0372,  0.0240,  0.0267, -0.0460, -0.0516,  0.0434,  0.0925,\n",
      "         -0.0783, -0.0650, -0.0141,  0.1056,  0.0651, -0.0382,  0.0991,  0.0324,\n",
      "         -0.0660,  0.1194,  0.0025,  0.0043,  0.0039, -0.0734,  0.0655, -0.0230,\n",
      "         -0.0287,  0.0138,  0.0256,  0.1542, -0.0822,  0.0992,  0.0417, -0.0160,\n",
      "          0.0132, -0.0908,  0.0037,  0.0055, -0.0141,  0.0698,  0.0564,  0.0385,\n",
      "         -0.0391,  0.1364,  0.0621,  0.0438, -0.0158,  0.0261,  0.0598, -0.0917,\n",
      "          0.0534, -0.1028, -0.0520, -0.0440,  0.0186, -0.0017, -0.0340,  0.0813,\n",
      "          0.0142,  0.0555,  0.0138,  0.0594,  0.0347, -0.0326,  0.0942, -0.0059,\n",
      "          0.0294,  0.0507,  0.0125, -0.0506, -0.0315, -0.0461,  0.0095,  0.0658,\n",
      "          0.0618,  0.0470,  0.0900,  0.0025,  0.1139, -0.0164,  0.0843,  0.0059,\n",
      "         -0.0566,  0.0043,  0.0530, -0.0325,  0.0798,  0.0183, -0.0529, -0.0531,\n",
      "         -0.0957,  0.0793,  0.0781, -0.1177,  0.0338,  0.0638, -0.0143, -0.0355]],\n",
      "       grad_fn=<AddmmBackward>)\n",
      "\n",
      "\n",
      "\n",
      "tensor([[-0.7393, -0.6490]], grad_fn=<LogSoftmaxBackward>)\n"
     ]
    }
   ],
   "source": [
    "input = lineToTensor('tom')\n",
    "hidden = rnn.initHidden()\n",
    "\n",
    "for charTensor in input:\n",
    "    print('CharTensor:\\n',charTensor)\n",
    "    print('HiddenValue:\\n',hidden)\n",
    "    print('\\n'*2)\n",
    "    output, hidden = rnn(charTensor,hidden)\n",
    "    \n",
    "print(output)"
   ]
  },
  {
   "cell_type": "code",
   "execution_count": 152,
   "metadata": {},
   "outputs": [
    {
     "name": "stdout",
     "output_type": "stream",
     "text": [
      "category = F / line = adi\n",
      "category = F / line = zola\n",
      "category = F / line = teena\n",
      "category = F / line = lucetta\n",
      "category = M / line = aedyn\n",
      "category = M / line = quinlan\n",
      "category = M / line = haakon\n",
      "category = M / line = keegan\n",
      "category = F / line = midge\n",
      "category = M / line = rozell\n"
     ]
    }
   ],
   "source": [
    "train_df = pd.concat([X_train_df.reset_index(drop=True), \n",
    "           pd.Series(y_train,name='gender')],axis=1)\n",
    "\n",
    "category_lines = df2dict(df=train_df, key_col='gender', val_col='lowascii_name')\n",
    "\n",
    "for i in range(10):\n",
    "    category, line, category_tensor, line_tensor = randomTrainingExample()\n",
    "    print('category =', category, '/ line =', line)"
   ]
  },
  {
   "cell_type": "code",
   "execution_count": 153,
   "metadata": {},
   "outputs": [],
   "source": [
    "def randomTrainingExample():\n",
    "    category = randomChoice(all_categories)\n",
    "    line = randomChoice(category_lines[category])\n",
    "    category_tensor = torch.tensor([all_categories.index(category)], dtype=torch.long)\n",
    "    line_tensor = lineToTensor(line)\n",
    "    return category, line, category_tensor, line_tensor\n",
    "\n",
    "def returnTrainingExample(idx, X=X_train.tolist(), y=y_train.tolist()):\n",
    "    \n",
    "    assert isinstance(X_train,(list,pd.Series))\n",
    "    category = y[idx]\n",
    "    line = X[idx]\n",
    "    line_tensor = lineToTensor(line)\n",
    "    category_tensor = torch.tensor([all_categories.index(category)], dtype=torch.long)\n",
    "    return category, line, category_tensor, line_tensor"
   ]
  },
  {
   "cell_type": "code",
   "execution_count": 154,
   "metadata": {},
   "outputs": [
    {
     "name": "stdout",
     "output_type": "stream",
     "text": [
      "5000 5% (0m 12s) 0.5801 maris / F ✓\n",
      "10000 10% (0m 24s) 0.4192 keilany / F ✓\n",
      "15000 15% (0m 38s) 0.5502 rashaud / M ✓\n",
      "\n",
      " ===== 1.0 Epoch Finished ============================== \n",
      "\n",
      "20000 20% (0m 57s) 0.8363 cove / F ✗ (M)\n",
      "25000 25% (1m 17s) 1.3106 yale / F ✗ (M)\n",
      "30000 30% (1m 34s) 0.2222 radha / F ✓\n",
      "\n",
      " ===== 2.0 Epoch Finished ============================== \n",
      "\n",
      "35000 35% (1m 50s) 0.0928 jaquita / F ✓\n",
      "40000 40% (2m 6s) 1.2956 isayah / F ✗ (M)\n",
      "45000 45% (2m 32s) 0.4595 marshae / F ✓\n",
      "\n",
      " ===== 3.0 Epoch Finished ============================== \n",
      "\n",
      "50000 50% (2m 49s) 0.3307 jaleah / F ✓\n",
      "55000 55% (3m 12s) 0.8071 cordie / M ✗ (F)\n",
      "60000 60% (3m 29s) 1.1623 jann / M ✗ (F)\n",
      "\n",
      " ===== 4.0 Epoch Finished ============================== \n",
      "\n",
      "65000 65% (3m 47s) 0.0554 kaitlynne / F ✓\n",
      "70000 70% (4m 7s) 0.9169 dashay / M ✗ (F)\n",
      "75000 75% (4m 22s) 0.3618 shiv / M ✓\n",
      "\n",
      " ===== 5.0 Epoch Finished ============================== \n",
      "\n",
      "80000 80% (4m 38s) 0.1251 tashaun / M ✓\n",
      "85000 85% (4m 52s) 0.1490 montavious / M ✓\n",
      "90000 90% (5m 7s) 1.7926 shilo / M ✗ (F)\n",
      "\n",
      " ===== 6.0 Epoch Finished ============================== \n",
      "\n",
      "95000 95% (5m 22s) 0.0428 zaila / F ✓\n",
      "100000 100% (5m 34s) 0.7073 lorry / M ✗ (F)\n"
     ]
    }
   ],
   "source": [
    "import time\n",
    "import math\n",
    "\n",
    "def train():\n",
    "    hidden = rnn.initHidden()\n",
    "\n",
    "    rnn.zero_grad()\n",
    "    \n",
    "    for i in range(line_tensor.size()[0]):\n",
    "        output, hidden = rnn(line_tensor[i], hidden)\n",
    "\n",
    "    loss = criterion(output, category_tensor)\n",
    "    loss.backward()\n",
    "\n",
    "    # Add parameters' gradients to their values, multiplied by learning rate\n",
    "    for p in rnn.parameters():\n",
    "        p.data.add_(p.grad.data, alpha=-learning_rate)\n",
    "\n",
    "    return output, loss.item()\n",
    "\n",
    "\n",
    "criterion = nn.NLLLoss()\n",
    "learning_rate = 0.0010 # If you set this too high, it might explode. If too low, it might not learn\n",
    "n_iters = 100000\n",
    "print_every = 5000\n",
    "plot_every = 100\n",
    "\n",
    "# Keep track of losses for plotting\n",
    "current_loss = 0\n",
    "all_losses = []\n",
    "\n",
    "def timeSince(since):\n",
    "    now = time.time()\n",
    "    s = now - since\n",
    "    m = math.floor(s / 60)\n",
    "    s -= m * 60\n",
    "    return '%dm %ds' % (m, s)\n",
    "\n",
    "start = time.time()\n",
    "\n",
    "for iter in range(1, n_iters + 1):\n",
    "    X=X_train.tolist()\n",
    "    y=y_train.tolist()\n",
    "    idx = iter % len(X)\n",
    "    category, line, category_tensor, line_tensor = returnTrainingExample(idx, X=X, y=y)\n",
    "    output, loss = train()\n",
    "    current_loss += loss\n",
    "\n",
    "    # Print iter number, loss, name and guess\n",
    "    if iter % print_every == 0:\n",
    "        guess, guess_i = categoryFromOutput(output)\n",
    "        correct = '✓' if guess == category else '✗ (%s)' % category\n",
    "        print('%d %d%% (%s) %.4f %s / %s %s' % (iter, iter / n_iters * 100, timeSince(start), loss, line, guess, correct))\n",
    "\n",
    "    # Add current loss avg to list of losses\n",
    "    if iter % plot_every == 0:\n",
    "        all_losses.append(current_loss / plot_every)\n",
    "        current_loss = 0\n",
    "        \n",
    "    if iter % len(X_train)== 0:\n",
    "        print(f'\\n ===== {iter / len(X_train)} Epoch Finished','='*30,'\\n')"
   ]
  },
  {
   "cell_type": "code",
   "execution_count": 156,
   "metadata": {},
   "outputs": [
    {
     "data": {
      "text/plain": [
       "[<matplotlib.lines.Line2D at 0x2755ac9c400>]"
      ]
     },
     "execution_count": 156,
     "metadata": {},
     "output_type": "execute_result"
    },
    {
     "data": {
      "image/png": "[encoded data removed]",
      "text/plain": [
       "<Figure size 432x288 with 1 Axes>"
      ]
     },
     "metadata": {
      "needs_background": "light"
     },
     "output_type": "display_data"
    }
   ],
   "source": [
    "import matplotlib.pyplot as plt\n",
    "import matplotlib.ticker as ticker\n",
    "\n",
    "plt.plot(all_losses)"
   ]
  },
  {
   "cell_type": "code",
   "execution_count": 157,
   "metadata": {},
   "outputs": [
    {
     "name": "stdout",
     "output_type": "stream",
     "text": [
      "Lucas tensor([[-2.3903, -0.0961]], grad_fn=<LogSoftmaxBackward>)\n"
     ]
    }
   ],
   "source": [
    "def evaluate(line_tensor):\n",
    "    hidden = rnn.initHidden()\n",
    "\n",
    "    for i in range(line_tensor.size()[0]):\n",
    "        output, hidden = rnn(line_tensor[i], hidden)\n",
    "\n",
    "    return output\n",
    "\n",
    "print('Lucas', evaluate(lineToTensor('Lucas')))\n",
    "\n",
    "X=X_test.tolist()\n",
    "y=y_test.tolist()\n",
    "\n",
    "y_pred = []\n",
    "for idx in range(len(X)):\n",
    "    category, line, category_tensor, line_tensor = returnTrainingExample(idx, X=X, y=y)\n",
    "    output = evaluate(line_tensor)\n",
    "    guess, guess_i = categoryFromOutput(output)\n",
    "    y_pred.append(guess)"
   ]
  },
  {
   "cell_type": "code",
   "execution_count": 159,
   "metadata": {},
   "outputs": [
    {
     "name": "stdout",
     "output_type": "stream",
     "text": [
      "              precision    recall  f1-score   support\n",
      "\n",
      "           F       0.85      0.84      0.85      2356\n",
      "           M       0.76      0.78      0.77      1522\n",
      "\n",
      "    accuracy                           0.82      3878\n",
      "   macro avg       0.81      0.81      0.81      3878\n",
      "weighted avg       0.82      0.82      0.82      3878\n",
      "\n"
     ]
    }
   ],
   "source": [
    "print(classification_report(y_true=y_test, y_pred=y_pred))"
   ]
  },
  {
   "cell_type": "code",
   "execution_count": 168,
   "metadata": {},
   "outputs": [],
   "source": [
    "EMBEDDING_DIM = 64\n",
    "HIDDEN_DIM = 64\n",
    "class LSTMTagger(nn.Module):\n",
    "\n",
    "    def __init__(self, embedding_dim, hidden_dim, vocab_size=len(all_letters), output_size=2):\n",
    "        super(LSTMTagger, self).__init__()\n",
    "        self.hidden_dim = hidden_dim\n",
    "\n",
    "        self.word_embeddings = nn.Embedding(vocab_size, embedding_dim)\n",
    "\n",
    "        # The LSTM takes word embeddings as inputs, and outputs hidden states\n",
    "        # with dimensionality hidden_dim.\n",
    "        self.lstm = nn.LSTM(embedding_dim, hidden_dim)\n",
    "\n",
    "        # The linear layer that maps from hidden state space to tag space\n",
    "        self.hidden2tag = nn.Linear(hidden_dim, output_size)\n",
    "\n",
    "    def forward(self, sentence):\n",
    "        embeds = self.word_embeddings(sentence)\n",
    "        lstm_out, _ = self.lstm(embeds.view(len(sentence), 1, -1))\n",
    "        tag_space = self.hidden2tag(lstm_out.view(len(sentence), -1))\n",
    "        tag_scores = F.log_softmax(tag_space, dim=1)\n",
    "        return tag_scores\n",
    "    \n",
    "    def initHidden(self):\n",
    "        return torch.zeros(1, self.hidden_size)"
   ]
  },
  {
   "cell_type": "code",
   "execution_count": 169,
   "metadata": {},
   "outputs": [],
   "source": [
    "model = LSTMTagger(EMBEDDING_DIM, HIDDEN_DIM)"
   ]
  },
  {
   "cell_type": "code",
   "execution_count": 172,
   "metadata": {},
   "outputs": [],
   "source": [
    "import torch.optim as optim\n",
    "optimizer = optim.SGD(model.parameters(), lr=0.1)\n",
    "criterion = nn.NLLLoss()"
   ]
  },
  {
   "cell_type": "code",
   "execution_count": 173,
   "metadata": {},
   "outputs": [
    {
     "ename": "NameError",
     "evalue": "name 'prepare_sequence' is not defined",
     "output_type": "error",
     "traceback": [
      "\u001b[1;31m---------------------------------------------------------------------------\u001b[0m",
      "\u001b[1;31mNameError\u001b[0m                                 Traceback (most recent call last)",
      "\u001b[1;32m<ipython-input-173-c4a0ef474259>\u001b[0m in \u001b[0;36m<module>\u001b[1;34m\u001b[0m\n\u001b[0;32m      1\u001b[0m \u001b[1;32mwith\u001b[0m \u001b[0mtorch\u001b[0m\u001b[1;33m.\u001b[0m\u001b[0mno_grad\u001b[0m\u001b[1;33m(\u001b[0m\u001b[1;33m)\u001b[0m\u001b[1;33m:\u001b[0m\u001b[1;33m\u001b[0m\u001b[1;33m\u001b[0m\u001b[0m\n\u001b[1;32m----> 2\u001b[1;33m     \u001b[0minputs\u001b[0m \u001b[1;33m=\u001b[0m \u001b[0mprepare_sequence\u001b[0m\u001b[1;33m(\u001b[0m\u001b[0mtraining_data\u001b[0m\u001b[1;33m[\u001b[0m\u001b[1;36m0\u001b[0m\u001b[1;33m]\u001b[0m\u001b[1;33m[\u001b[0m\u001b[1;36m0\u001b[0m\u001b[1;33m]\u001b[0m\u001b[1;33m,\u001b[0m \u001b[0mword_to_ix\u001b[0m\u001b[1;33m)\u001b[0m\u001b[1;33m\u001b[0m\u001b[1;33m\u001b[0m\u001b[0m\n\u001b[0m\u001b[0;32m      3\u001b[0m     \u001b[0mtag_scores\u001b[0m \u001b[1;33m=\u001b[0m \u001b[0mmodel\u001b[0m\u001b[1;33m(\u001b[0m\u001b[0minputs\u001b[0m\u001b[1;33m)\u001b[0m\u001b[1;33m\u001b[0m\u001b[1;33m\u001b[0m\u001b[0m\n\u001b[0;32m      4\u001b[0m     \u001b[0mprint\u001b[0m\u001b[1;33m(\u001b[0m\u001b[0mtag_scores\u001b[0m\u001b[1;33m)\u001b[0m\u001b[1;33m\u001b[0m\u001b[1;33m\u001b[0m\u001b[0m\n\u001b[0;32m      5\u001b[0m \u001b[1;33m\u001b[0m\u001b[0m\n",
      "\u001b[1;31mNameError\u001b[0m: name 'prepare_sequence' is not defined"
     ]
    }
   ],
   "source": [
    "with torch.no_grad():\n",
    "    inputs = prepare_sequence(training_data[0][0], word_to_ix)\n",
    "    tag_scores = model(inputs)\n",
    "    print(tag_scores)\n",
    "\n",
    "for epoch in range(300):  # again, normally you would NOT do 300 epochs, it is toy data\n",
    "    for sentence, tags in training_data:\n",
    "        # Step 1. Remember that Pytorch accumulates gradients.\n",
    "        # We need to clear them out before each instance\n",
    "        model.zero_grad()\n",
    "\n",
    "        # Step 2. Get our inputs ready for the network, that is, turn them into\n",
    "        # Tensors of word indices.\n",
    "        sentence_in = prepare_sequence(sentence, word_to_ix)\n",
    "        targets = prepare_sequence(tags, tag_to_ix)\n",
    "\n",
    "        # Step 3. Run our forward pass.\n",
    "        tag_scores = model(sentence_in)\n",
    "\n",
    "        # Step 4. Compute the loss, gradients, and update the parameters by\n",
    "        #  calling optimizer.step()\n",
    "        loss = loss_function(tag_scores, targets)\n",
    "        loss.backward()\n",
    "        optimizer.step()\n",
    "\n",
    "# See what the scores are after training\n",
    "with torch.no_grad():\n",
    "    inputs = prepare_sequence(training_data[0][0], word_to_ix)\n",
    "    tag_scores = model(inputs)\n",
    "\n",
    "    # The sentence is \"the dog ate the apple\".  i,j corresponds to score for tag j\n",
    "    # for word i. The predicted tag is the maximum scoring tag.\n",
    "    # Here, we can see the predicted sequence below is 0 1 2 0 1\n",
    "    # since 0 is index of the maximum value of row 1,\n",
    "    # 1 is the index of maximum value of row 2, etc.\n",
    "    # Which is DET NOUN VERB DET NOUN, the correct sequence!\n",
    "    print(tag_scores)"
   ]
  },
  {
   "cell_type": "code",
   "execution_count": null,
   "metadata": {},
   "outputs": [],
   "source": []
  }
 ],
 "metadata": {
  "kernelspec": {
   "display_name": "Python 3",
   "language": "python",
   "name": "python3"
  },
  "language_info": {
   "codemirror_mode": {
    "name": "ipython",
    "version": 3
   },
   "file_extension": ".py",
   "mimetype": "text/x-python",
   "name": "python",
   "nbconvert_exporter": "python",
   "pygments_lexer": "ipython3",
   "version": "3.8.5"
  }
 },
 "nbformat": 4,
 "nbformat_minor": 4
}
